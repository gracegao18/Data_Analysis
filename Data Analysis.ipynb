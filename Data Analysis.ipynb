{
 "cells": [
  {
   "cell_type": "code",
   "execution_count": 1,
   "metadata": {},
   "outputs": [],
   "source": [
    "#引入pandas库\n",
    "import pandas as pd"
   ]
  },
  {
   "cell_type": "code",
   "execution_count": 2,
   "metadata": {},
   "outputs": [],
   "source": [
    "#导入数据集\n",
    "df=pd.read_csv('data.csv',encoding='utf-8')"
   ]
  },
  {
   "cell_type": "code",
   "execution_count": 3,
   "metadata": {
    "scrolled": true
   },
   "outputs": [
    {
     "data": {
      "text/html": [
       "<div>\n",
       "<style scoped>\n",
       "    .dataframe tbody tr th:only-of-type {\n",
       "        vertical-align: middle;\n",
       "    }\n",
       "\n",
       "    .dataframe tbody tr th {\n",
       "        vertical-align: top;\n",
       "    }\n",
       "\n",
       "    .dataframe thead th {\n",
       "        text-align: right;\n",
       "    }\n",
       "</style>\n",
       "<table border=\"1\" class=\"dataframe\">\n",
       "  <thead>\n",
       "    <tr style=\"text-align: right;\">\n",
       "      <th></th>\n",
       "      <th>class_small</th>\n",
       "      <th>class_strong</th>\n",
       "      <th>delivery_place</th>\n",
       "      <th>doc_class</th>\n",
       "      <th>doc_subclass</th>\n",
       "      <th>doc_type</th>\n",
       "      <th>favorite_num</th>\n",
       "      <th>id</th>\n",
       "      <th>opinion_high</th>\n",
       "      <th>opinion_low</th>\n",
       "      <th>...</th>\n",
       "      <th>shop_name</th>\n",
       "      <th>shop_url</th>\n",
       "      <th>site_domain</th>\n",
       "      <th>site_ip</th>\n",
       "      <th>site_name</th>\n",
       "      <th>spider_ip</th>\n",
       "      <th>task_group</th>\n",
       "      <th>task_id</th>\n",
       "      <th>task_name</th>\n",
       "      <th>tax_fee_num</th>\n",
       "    </tr>\n",
       "  </thead>\n",
       "  <tbody>\n",
       "    <tr>\n",
       "      <th>0</th>\n",
       "      <td>礼服/演出服</td>\n",
       "      <td>童装</td>\n",
       "      <td>NaN</td>\n",
       "      <td>2004.0</td>\n",
       "      <td>200401.0</td>\n",
       "      <td>20.0</td>\n",
       "      <td>0.0</td>\n",
       "      <td>6#20171019#46beed7a3c670c551f6cac692fa24547</td>\n",
       "      <td>0.0</td>\n",
       "      <td>0.0</td>\n",
       "      <td>...</td>\n",
       "      <td>悍风方俊专卖店</td>\n",
       "      <td>http://mall.jd.com/index-191073.html</td>\n",
       "      <td>item.jd.com</td>\n",
       "      <td>111.206.231.1</td>\n",
       "      <td>京东</td>\n",
       "      <td>192.168.21.82</td>\n",
       "      <td>2017-10-12</td>\n",
       "      <td>www.jd.com</td>\n",
       "      <td>京东</td>\n",
       "      <td>0.0</td>\n",
       "    </tr>\n",
       "    <tr>\n",
       "      <th>1</th>\n",
       "      <td>礼服/演出服</td>\n",
       "      <td>童装</td>\n",
       "      <td>NaN</td>\n",
       "      <td>2004.0</td>\n",
       "      <td>200401.0</td>\n",
       "      <td>20.0</td>\n",
       "      <td>0.0</td>\n",
       "      <td>9#20171019#aa1861c960950295441e68177c07486f</td>\n",
       "      <td>5.0</td>\n",
       "      <td>0.0</td>\n",
       "      <td>...</td>\n",
       "      <td>尚品琳演出服旗舰店</td>\n",
       "      <td>http://mall.jd.com/index-668645.html</td>\n",
       "      <td>item.jd.com</td>\n",
       "      <td>111.206.231.1</td>\n",
       "      <td>京东</td>\n",
       "      <td>192.168.21.82</td>\n",
       "      <td>2017-10-12</td>\n",
       "      <td>www.jd.com</td>\n",
       "      <td>京东</td>\n",
       "      <td>0.0</td>\n",
       "    </tr>\n",
       "    <tr>\n",
       "      <th>2</th>\n",
       "      <td>羽绒服</td>\n",
       "      <td>童装</td>\n",
       "      <td>浙江宁波市</td>\n",
       "      <td>2004.0</td>\n",
       "      <td>200401.0</td>\n",
       "      <td>20.0</td>\n",
       "      <td>0.0</td>\n",
       "      <td>6#20171019#fe05ca84b950611bf907e1888db4429a</td>\n",
       "      <td>0.0</td>\n",
       "      <td>0.0</td>\n",
       "      <td>...</td>\n",
       "      <td>惠美优母婴专营店</td>\n",
       "      <td>http://mall.jd.com/index-721860.html</td>\n",
       "      <td>item.jd.com</td>\n",
       "      <td>111.206.231.1</td>\n",
       "      <td>京东</td>\n",
       "      <td>192.168.21.82</td>\n",
       "      <td>2017-10-12</td>\n",
       "      <td>www.jd.com</td>\n",
       "      <td>京东</td>\n",
       "      <td>0.0</td>\n",
       "    </tr>\n",
       "  </tbody>\n",
       "</table>\n",
       "<p>3 rows × 41 columns</p>\n",
       "</div>"
      ],
      "text/plain": [
       "  class_small class_strong delivery_place  doc_class  doc_subclass  doc_type  \\\n",
       "0      礼服/演出服           童装            NaN     2004.0      200401.0      20.0   \n",
       "1      礼服/演出服           童装            NaN     2004.0      200401.0      20.0   \n",
       "2         羽绒服           童装          浙江宁波市     2004.0      200401.0      20.0   \n",
       "\n",
       "   favorite_num                                           id  opinion_high  \\\n",
       "0           0.0  6#20171019#46beed7a3c670c551f6cac692fa24547           0.0   \n",
       "1           0.0  9#20171019#aa1861c960950295441e68177c07486f           5.0   \n",
       "2           0.0  6#20171019#fe05ca84b950611bf907e1888db4429a           0.0   \n",
       "\n",
       "   opinion_low  ...  shop_name                              shop_url  \\\n",
       "0          0.0  ...    悍风方俊专卖店  http://mall.jd.com/index-191073.html   \n",
       "1          0.0  ...  尚品琳演出服旗舰店  http://mall.jd.com/index-668645.html   \n",
       "2          0.0  ...   惠美优母婴专营店  http://mall.jd.com/index-721860.html   \n",
       "\n",
       "   site_domain        site_ip site_name      spider_ip  task_group  \\\n",
       "0  item.jd.com  111.206.231.1        京东  192.168.21.82  2017-10-12   \n",
       "1  item.jd.com  111.206.231.1        京东  192.168.21.82  2017-10-12   \n",
       "2  item.jd.com  111.206.231.1        京东  192.168.21.82  2017-10-12   \n",
       "\n",
       "      task_id task_name tax_fee_num  \n",
       "0  www.jd.com        京东         0.0  \n",
       "1  www.jd.com        京东         0.0  \n",
       "2  www.jd.com        京东         0.0  \n",
       "\n",
       "[3 rows x 41 columns]"
      ]
     },
     "execution_count": 3,
     "metadata": {},
     "output_type": "execute_result"
    }
   ],
   "source": [
    "#查看数据集\n",
    "df.head(3)"
   ]
  },
  {
   "cell_type": "code",
   "execution_count": 4,
   "metadata": {
    "scrolled": true
   },
   "outputs": [
    {
     "data": {
      "text/plain": [
       "Index(['class_small', 'class_strong', 'delivery_place', 'doc_class',\n",
       "       'doc_subclass', 'doc_type', 'favorite_num', 'id', 'opinion_high',\n",
       "       'opinion_low', 'opinion_middle', 'opinion_num', 'origin_price',\n",
       "       'page_fetch_time', 'page_publish_time', 'page_save_time', 'page_size',\n",
       "       'page_url', 'pro_brand', 'pro_class', 'pro_code', 'pro_freight',\n",
       "       'pro_impression', 'pro_name', 'pro_place', 'pro_property',\n",
       "       'pro_sales_num', 'pro_score', 'pro_total_num', 'pro_type', 'sale_price',\n",
       "       'shop_name', 'shop_url', 'site_domain', 'site_ip', 'site_name',\n",
       "       'spider_ip', 'task_group', 'task_id', 'task_name', 'tax_fee_num'],\n",
       "      dtype='object')"
      ]
     },
     "execution_count": 4,
     "metadata": {},
     "output_type": "execute_result"
    }
   ],
   "source": [
    "#查看列标签\n",
    "df.columns"
   ]
  },
  {
   "cell_type": "code",
   "execution_count": 5,
   "metadata": {},
   "outputs": [
    {
     "data": {
      "text/plain": [
       "(703500, 41)"
      ]
     },
     "execution_count": 5,
     "metadata": {},
     "output_type": "execute_result"
    }
   ],
   "source": [
    "#数据评估\n",
    "#检查数据集的行数和列数\n",
    "df.shape"
   ]
  },
  {
   "cell_type": "code",
   "execution_count": 6,
   "metadata": {},
   "outputs": [
    {
     "name": "stdout",
     "output_type": "stream",
     "text": [
      "<class 'pandas.core.frame.DataFrame'>\n",
      "RangeIndex: 703500 entries, 0 to 703499\n",
      "Data columns (total 41 columns):\n",
      " #   Column             Non-Null Count   Dtype  \n",
      "---  ------             --------------   -----  \n",
      " 0   class_small        703500 non-null  object \n",
      " 1   class_strong       703500 non-null  object \n",
      " 2   delivery_place     363261 non-null  object \n",
      " 3   doc_class          703500 non-null  float64\n",
      " 4   doc_subclass       703500 non-null  float64\n",
      " 5   doc_type           703500 non-null  float64\n",
      " 6   favorite_num       703500 non-null  float64\n",
      " 7   id                 703500 non-null  object \n",
      " 8   opinion_high       703500 non-null  float64\n",
      " 9   opinion_low        703500 non-null  float64\n",
      " 10  opinion_middle     703500 non-null  float64\n",
      " 11  opinion_num        703500 non-null  float64\n",
      " 12  origin_price       703500 non-null  float64\n",
      " 13  page_fetch_time    703500 non-null  object \n",
      " 14  page_publish_time  703500 non-null  object \n",
      " 15  page_save_time     703500 non-null  object \n",
      " 16  page_size          703500 non-null  float64\n",
      " 17  page_url           703500 non-null  object \n",
      " 18  pro_brand          611926 non-null  object \n",
      " 19  pro_class          703500 non-null  object \n",
      " 20  pro_code           703500 non-null  int64  \n",
      " 21  pro_freight        623624 non-null  object \n",
      " 22  pro_impression     71684 non-null   object \n",
      " 23  pro_name           703500 non-null  object \n",
      " 24  pro_place          153598 non-null  object \n",
      " 25  pro_property       703500 non-null  object \n",
      " 26  pro_sales_num      703500 non-null  float64\n",
      " 27  pro_score          703500 non-null  float64\n",
      " 28  pro_total_num      703500 non-null  float64\n",
      " 29  pro_type           703500 non-null  object \n",
      " 30  sale_price         703500 non-null  float64\n",
      " 31  shop_name          703500 non-null  object \n",
      " 32  shop_url           703500 non-null  object \n",
      " 33  site_domain        703500 non-null  object \n",
      " 34  site_ip            703500 non-null  object \n",
      " 35  site_name          703500 non-null  object \n",
      " 36  spider_ip          703500 non-null  object \n",
      " 37  task_group         703500 non-null  object \n",
      " 38  task_id            703500 non-null  object \n",
      " 39  task_name          703500 non-null  object \n",
      " 40  tax_fee_num        703500 non-null  float64\n",
      "dtypes: float64(15), int64(1), object(25)\n",
      "memory usage: 220.1+ MB\n"
     ]
    }
   ],
   "source": [
    "#缺失值检查\n",
    "df.info()"
   ]
  },
  {
   "cell_type": "code",
   "execution_count": 7,
   "metadata": {},
   "outputs": [
    {
     "data": {
      "text/plain": [
       "280800"
      ]
     },
     "execution_count": 7,
     "metadata": {},
     "output_type": "execute_result"
    }
   ],
   "source": [
    "#数据重复检查\n",
    "df.duplicated().sum()"
   ]
  },
  {
   "cell_type": "code",
   "execution_count": 8,
   "metadata": {},
   "outputs": [],
   "source": [
    "#数据清洗\n",
    "#删除无关列\n",
    "df.drop( ['class_strong', 'delivery_place', 'doc_class',\n",
    "       'doc_subclass', 'doc_type', 'favorite_num', 'id', 'opinion_high',\n",
    "       'opinion_low', 'opinion_middle', 'opinion_num', 'origin_price',\n",
    "       'page_fetch_time', 'page_publish_time', 'page_save_time', 'page_size',\n",
    "       'page_url', 'pro_brand', 'pro_class', 'pro_freight',\n",
    "       'pro_impression',  'pro_place', 'pro_property',\n",
    "        'pro_score', 'pro_total_num',\n",
    "       'shop_name', 'shop_url', 'site_domain', 'site_ip', 'site_name',\n",
    "       'spider_ip', 'task_group', 'task_id', 'task_name', 'tax_fee_num'],axis=1,inplace=True)"
   ]
  },
  {
   "cell_type": "code",
   "execution_count": 9,
   "metadata": {},
   "outputs": [
    {
     "data": {
      "text/plain": [
       "Index(['class_small', 'pro_code', 'pro_name', 'pro_sales_num', 'pro_type',\n",
       "       'sale_price'],\n",
       "      dtype='object')"
      ]
     },
     "execution_count": 9,
     "metadata": {},
     "output_type": "execute_result"
    }
   ],
   "source": [
    "#检查：删除结果\n",
    "df.columns"
   ]
  },
  {
   "cell_type": "code",
   "execution_count": 10,
   "metadata": {},
   "outputs": [],
   "source": [
    "#添加新列：销售额\n",
    "df['sales']=df['pro_sales_num']*df['sale_price']"
   ]
  },
  {
   "cell_type": "code",
   "execution_count": 11,
   "metadata": {},
   "outputs": [
    {
     "data": {
      "text/html": [
       "<div>\n",
       "<style scoped>\n",
       "    .dataframe tbody tr th:only-of-type {\n",
       "        vertical-align: middle;\n",
       "    }\n",
       "\n",
       "    .dataframe tbody tr th {\n",
       "        vertical-align: top;\n",
       "    }\n",
       "\n",
       "    .dataframe thead th {\n",
       "        text-align: right;\n",
       "    }\n",
       "</style>\n",
       "<table border=\"1\" class=\"dataframe\">\n",
       "  <thead>\n",
       "    <tr style=\"text-align: right;\">\n",
       "      <th></th>\n",
       "      <th>class_small</th>\n",
       "      <th>pro_code</th>\n",
       "      <th>pro_name</th>\n",
       "      <th>pro_sales_num</th>\n",
       "      <th>pro_type</th>\n",
       "      <th>sale_price</th>\n",
       "      <th>sales</th>\n",
       "    </tr>\n",
       "  </thead>\n",
       "  <tbody>\n",
       "    <tr>\n",
       "      <th>0</th>\n",
       "      <td>礼服/演出服</td>\n",
       "      <td>13518042094</td>\n",
       "      <td>HUMG FENG品牌儿童礼服裙女童公主裙花童生日小礼服演出服婚纱主持人蓬蓬裙 藕色 130cm</td>\n",
       "      <td>0.0</td>\n",
       "      <td>男装/女装/童装/内衣</td>\n",
       "      <td>999.0</td>\n",
       "      <td>0.0</td>\n",
       "    </tr>\n",
       "    <tr>\n",
       "      <th>1</th>\n",
       "      <td>礼服/演出服</td>\n",
       "      <td>12392911311</td>\n",
       "      <td>尚品琳儿童舞蹈服装夏季幼儿女童练功服短袖考级服连体服芭蕾舞裙 曜石黑 120cm</td>\n",
       "      <td>5.0</td>\n",
       "      <td>男装/女装/童装/内衣</td>\n",
       "      <td>69.0</td>\n",
       "      <td>345.0</td>\n",
       "    </tr>\n",
       "    <tr>\n",
       "      <th>2</th>\n",
       "      <td>羽绒服</td>\n",
       "      <td>18069763959</td>\n",
       "      <td>2017新款秋冬童装男童女童棉衣儿童轻薄羽绒棉服短款宝宝棉袄 817502红色男 150cm</td>\n",
       "      <td>0.0</td>\n",
       "      <td>男装/女装/童装/内衣</td>\n",
       "      <td>421.4</td>\n",
       "      <td>0.0</td>\n",
       "    </tr>\n",
       "    <tr>\n",
       "      <th>3</th>\n",
       "      <td>羽绒服</td>\n",
       "      <td>18019573791</td>\n",
       "      <td>七范童装儿童羽绒服女童冬季羽绒服中长款保暖羽绒服2017新款男童装时尚羽绒服 黑色 110</td>\n",
       "      <td>0.0</td>\n",
       "      <td>男装/女装/童装/内衣</td>\n",
       "      <td>175.0</td>\n",
       "      <td>0.0</td>\n",
       "    </tr>\n",
       "    <tr>\n",
       "      <th>4</th>\n",
       "      <td>羽绒服</td>\n",
       "      <td>17123280896</td>\n",
       "      <td>觅唯冬装新品女童中大童可爱棉衣儿童连帽毛球棉衣 玫红色 160cm</td>\n",
       "      <td>0.0</td>\n",
       "      <td>男装/女装/童装/内衣</td>\n",
       "      <td>177.0</td>\n",
       "      <td>0.0</td>\n",
       "    </tr>\n",
       "  </tbody>\n",
       "</table>\n",
       "</div>"
      ],
      "text/plain": [
       "  class_small     pro_code                                          pro_name  \\\n",
       "0      礼服/演出服  13518042094  HUMG FENG品牌儿童礼服裙女童公主裙花童生日小礼服演出服婚纱主持人蓬蓬裙 藕色 130cm   \n",
       "1      礼服/演出服  12392911311          尚品琳儿童舞蹈服装夏季幼儿女童练功服短袖考级服连体服芭蕾舞裙 曜石黑 120cm   \n",
       "2         羽绒服  18069763959    2017新款秋冬童装男童女童棉衣儿童轻薄羽绒棉服短款宝宝棉袄 817502红色男 150cm   \n",
       "3         羽绒服  18019573791     七范童装儿童羽绒服女童冬季羽绒服中长款保暖羽绒服2017新款男童装时尚羽绒服 黑色 110   \n",
       "4         羽绒服  17123280896                 觅唯冬装新品女童中大童可爱棉衣儿童连帽毛球棉衣 玫红色 160cm   \n",
       "\n",
       "   pro_sales_num     pro_type  sale_price  sales  \n",
       "0            0.0  男装/女装/童装/内衣       999.0    0.0  \n",
       "1            5.0  男装/女装/童装/内衣        69.0  345.0  \n",
       "2            0.0  男装/女装/童装/内衣       421.4    0.0  \n",
       "3            0.0  男装/女装/童装/内衣       175.0    0.0  \n",
       "4            0.0  男装/女装/童装/内衣       177.0    0.0  "
      ]
     },
     "execution_count": 11,
     "metadata": {},
     "output_type": "execute_result"
    }
   ],
   "source": [
    "#检查：新列添加结果\n",
    "df.head()"
   ]
  },
  {
   "cell_type": "code",
   "execution_count": 12,
   "metadata": {},
   "outputs": [],
   "source": [
    "#缺失数据处理\n",
    "df.dropna(inplace=True)"
   ]
  },
  {
   "cell_type": "code",
   "execution_count": 13,
   "metadata": {},
   "outputs": [
    {
     "name": "stdout",
     "output_type": "stream",
     "text": [
      "<class 'pandas.core.frame.DataFrame'>\n",
      "Int64Index: 703500 entries, 0 to 703499\n",
      "Data columns (total 7 columns):\n",
      " #   Column         Non-Null Count   Dtype  \n",
      "---  ------         --------------   -----  \n",
      " 0   class_small    703500 non-null  object \n",
      " 1   pro_code       703500 non-null  int64  \n",
      " 2   pro_name       703500 non-null  object \n",
      " 3   pro_sales_num  703500 non-null  float64\n",
      " 4   pro_type       703500 non-null  object \n",
      " 5   sale_price     703500 non-null  float64\n",
      " 6   sales          703500 non-null  float64\n",
      "dtypes: float64(3), int64(1), object(3)\n",
      "memory usage: 42.9+ MB\n"
     ]
    }
   ],
   "source": [
    "#检查：缺失数据处理结果\n",
    "df.info()"
   ]
  },
  {
   "cell_type": "code",
   "execution_count": 14,
   "metadata": {},
   "outputs": [],
   "source": [
    "#重复数据处理\n",
    "df.drop_duplicates(inplace=True)"
   ]
  },
  {
   "cell_type": "code",
   "execution_count": 15,
   "metadata": {},
   "outputs": [
    {
     "data": {
      "text/plain": [
       "0"
      ]
     },
     "execution_count": 15,
     "metadata": {},
     "output_type": "execute_result"
    }
   ],
   "source": [
    "#检查：重复数据处理结果\n",
    "df.duplicated().sum()"
   ]
  },
  {
   "cell_type": "code",
   "execution_count": 16,
   "metadata": {},
   "outputs": [
    {
     "data": {
      "text/plain": [
       "家居/家具/家装/厨具    65220\n",
       "男装/女装/童装/内衣    59502\n",
       ">男鞋/运动/户外      55498\n",
       "图书/音像/电子书      53261\n",
       "汽车/汽车用品        50301\n",
       "女鞋/箱包/钟表/珠宝    36433\n",
       "电脑/办公          19063\n",
       "母婴/玩具乐器        15879\n",
       "美妆个护/宠物        15327\n",
       "手机/运营商/数码      14839\n",
       "食品/酒类/生鲜/特产    10642\n",
       "礼品鲜花/农资绿植      10606\n",
       "医药保健/计生情趣      10564\n",
       "机票/酒店/旅游/生活     3539\n",
       "家用电器            2026\n",
       "Name: pro_type, dtype: int64"
      ]
     },
     "execution_count": 16,
     "metadata": {},
     "output_type": "execute_result"
    }
   ],
   "source": [
    "#数据探索&得出结果\n",
    "#问题一：各商品类目下，商品的数量、销售和销售额是多少？\n",
    "#1.各类目的商品数量\n",
    "df['pro_type'].value_counts()"
   ]
  },
  {
   "cell_type": "code",
   "execution_count": 17,
   "metadata": {},
   "outputs": [
    {
     "data": {
      "image/png": "[encoded data removed]",
      "text/plain": [
       "<Figure size 432x288 with 1 Axes>"
      ]
     },
     "metadata": {
      "needs_background": "light"
     },
     "output_type": "display_data"
    }
   ],
   "source": [
    "import matplotlib.pyplot as plt\n",
    "from pylab import mpl#解决中文字体显示不正常的问题\n",
    "mpl.rcParams['font.sans-serif']=['SimHei']#解决中文字体显示不正常的问题\n",
    "df['pro_type'].value_counts().plot(kind='bar',title='各类目的商品数量',color='red',alpha=0.5)\n",
    "plt.xlabel('商品类目')\n",
    "plt.ylabel('商品数量')\n",
    "plt.show()"
   ]
  },
  {
   "cell_type": "code",
   "execution_count": 18,
   "metadata": {
    "scrolled": true
   },
   "outputs": [
    {
     "data": {
      "text/plain": [
       "pro_type\n",
       "电脑/办公          8969658.0\n",
       "汽车/汽车用品        8468730.0\n",
       "手机/运营商/数码      7030599.0\n",
       "食品/酒类/生鲜/特产    5464119.0\n",
       "美妆个护/宠物        4092792.0\n",
       "男装/女装/童装/内衣    3876258.0\n",
       "母婴/玩具乐器        3712002.0\n",
       "家居/家具/家装/厨具    3689160.0\n",
       "医药保健/计生情趣      3651409.0\n",
       "女鞋/箱包/钟表/珠宝    3440536.0\n",
       ">男鞋/运动/户外      2522680.0\n",
       "图书/音像/电子书      1397725.0\n",
       "礼品鲜花/农资绿植       726757.0\n",
       "家用电器            560519.0\n",
       "机票/酒店/旅游/生活      12993.0\n",
       "Name: pro_sales_num, dtype: float64"
      ]
     },
     "execution_count": 18,
     "metadata": {},
     "output_type": "execute_result"
    }
   ],
   "source": [
    "#2.各类目的商品销量\n",
    "df['pro_sales_num'].groupby(df['pro_type']).sum().sort_values(ascending=False)"
   ]
  },
  {
   "cell_type": "code",
   "execution_count": 19,
   "metadata": {},
   "outputs": [
    {
     "data": {
      "image/png": "[encoded data removed]",
      "text/plain": [
       "<Figure size 432x288 with 1 Axes>"
      ]
     },
     "metadata": {
      "needs_background": "light"
     },
     "output_type": "display_data"
    }
   ],
   "source": [
    "import matplotlib.pyplot as plt\n",
    "from pylab import mpl#解决中文字体显示不正常的问题\n",
    "mpl.rcParams['font.sans-serif']=['SimHei']#解决中文字体显示不正常的问题\n",
    "sale_num=df['pro_sales_num'].groupby(df['pro_type']).sum().sort_values(ascending=False)\n",
    "sale_num.plot(kind='bar',title='各类目的商品销量',color='red',alpha=0.5)\n",
    "plt.xlabel('商品类目')\n",
    "plt.ylabel('商品销量')\n",
    "plt.show()"
   ]
  },
  {
   "cell_type": "code",
   "execution_count": 20,
   "metadata": {
    "scrolled": true
   },
   "outputs": [
    {
     "data": {
      "text/plain": [
       "pro_type\n",
       "电脑/办公          3.513580e+09\n",
       "手机/运营商/数码      1.591985e+09\n",
       "汽车/汽车用品        1.280715e+09\n",
       "家居/家具/家装/厨具    1.001587e+09\n",
       "女鞋/箱包/钟表/珠宝    9.301880e+08\n",
       "母婴/玩具乐器        7.336962e+08\n",
       ">男鞋/运动/户外      6.970689e+08\n",
       "男装/女装/童装/内衣    5.477171e+08\n",
       "医药保健/计生情趣      4.800351e+08\n",
       "食品/酒类/生鲜/特产    4.143528e+08\n",
       "家用电器           3.630203e+08\n",
       "美妆个护/宠物        3.388113e+08\n",
       "图书/音像/电子书      8.838887e+07\n",
       "礼品鲜花/农资绿植      4.331135e+07\n",
       "机票/酒店/旅游/生活    7.170036e+05\n",
       "Name: sales, dtype: float64"
      ]
     },
     "execution_count": 20,
     "metadata": {},
     "output_type": "execute_result"
    }
   ],
   "source": [
    "#3.各类目的商品的销售额\n",
    "df['sales'].groupby(df['pro_type']).sum().sort_values(ascending=False)"
   ]
  },
  {
   "cell_type": "code",
   "execution_count": 21,
   "metadata": {},
   "outputs": [
    {
     "data": {
      "image/png": "[encoded data removed]",
      "text/plain": [
       "<Figure size 432x288 with 1 Axes>"
      ]
     },
     "metadata": {
      "needs_background": "light"
     },
     "output_type": "display_data"
    }
   ],
   "source": [
    "import matplotlib.pyplot as plt\n",
    "from pylab import mpl#解决中文字体显示不正常的问题\n",
    "mpl.rcParams['font.sans-serif']=['SimHei']#解决中文字体显示不正常的问题\n",
    "sales_num=df['sales'].groupby(df['pro_type']).sum().sort_values(ascending=False)\n",
    "sales_num.plot(kind='bar',title='各类目的商品销售额',color='red',alpha=0.5)\n",
    "plt.xlabel('商品类目')\n",
    "plt.ylabel('商品销售额')\n",
    "plt.show()"
   ]
  },
  {
   "cell_type": "code",
   "execution_count": 22,
   "metadata": {},
   "outputs": [],
   "source": [
    "#问题二：在“笔记本”小分类下，商品的最高、最低和平均价格是多少？具体的价格分布情况是怎样的？\n",
    "#1.把笔记本小分类下面的所有商品信息都筛选出来\n",
    "df_laptop=df[df['class_small']=='笔记本']"
   ]
  },
  {
   "cell_type": "code",
   "execution_count": 23,
   "metadata": {},
   "outputs": [
    {
     "data": {
      "text/plain": [
       "29999.0"
      ]
     },
     "execution_count": 23,
     "metadata": {},
     "output_type": "execute_result"
    }
   ],
   "source": [
    "#2.计算商品的最高、最低和平均价格\n",
    "#方法一：max,min,mean\n",
    "#最高价格\n",
    "df_laptop['sale_price'].max()"
   ]
  },
  {
   "cell_type": "code",
   "execution_count": 24,
   "metadata": {},
   "outputs": [
    {
     "data": {
      "text/plain": [
       "799.0"
      ]
     },
     "execution_count": 24,
     "metadata": {},
     "output_type": "execute_result"
    }
   ],
   "source": [
    "#最低价格\n",
    "df_laptop['sale_price'].min()"
   ]
  },
  {
   "cell_type": "code",
   "execution_count": 25,
   "metadata": {},
   "outputs": [
    {
     "data": {
      "text/plain": [
       "7352.958283671037"
      ]
     },
     "execution_count": 25,
     "metadata": {},
     "output_type": "execute_result"
    }
   ],
   "source": [
    "#平均价格\n",
    "df_laptop['sale_price'].mean()"
   ]
  },
  {
   "cell_type": "code",
   "execution_count": 26,
   "metadata": {},
   "outputs": [
    {
     "data": {
      "text/html": [
       "<div>\n",
       "<style scoped>\n",
       "    .dataframe tbody tr th:only-of-type {\n",
       "        vertical-align: middle;\n",
       "    }\n",
       "\n",
       "    .dataframe tbody tr th {\n",
       "        vertical-align: top;\n",
       "    }\n",
       "\n",
       "    .dataframe thead th {\n",
       "        text-align: right;\n",
       "    }\n",
       "</style>\n",
       "<table border=\"1\" class=\"dataframe\">\n",
       "  <thead>\n",
       "    <tr style=\"text-align: right;\">\n",
       "      <th></th>\n",
       "      <th>class_small</th>\n",
       "      <th>pro_code</th>\n",
       "      <th>pro_name</th>\n",
       "      <th>pro_sales_num</th>\n",
       "      <th>pro_type</th>\n",
       "      <th>sale_price</th>\n",
       "      <th>sales</th>\n",
       "    </tr>\n",
       "  </thead>\n",
       "  <tbody>\n",
       "    <tr>\n",
       "      <th>13345</th>\n",
       "      <td>笔记本</td>\n",
       "      <td>14445807638</td>\n",
       "      <td>（华为)HUAWEI MateBook D 15.6英寸轻薄窄边框笔记本电脑超薄本 金 官配...</td>\n",
       "      <td>13.0</td>\n",
       "      <td>电脑/办公</td>\n",
       "      <td>6988.0</td>\n",
       "      <td>90844.0</td>\n",
       "    </tr>\n",
       "    <tr>\n",
       "      <th>13353</th>\n",
       "      <td>笔记本</td>\n",
       "      <td>11493884089</td>\n",
       "      <td>宏碁(acer)蜂鸟Swift3 14英寸全金属轻薄笔记本电脑SF314 IPS 指纹识别 ...</td>\n",
       "      <td>6.0</td>\n",
       "      <td>电脑/办公</td>\n",
       "      <td>4399.0</td>\n",
       "      <td>26394.0</td>\n",
       "    </tr>\n",
       "    <tr>\n",
       "      <th>13423</th>\n",
       "      <td>笔记本</td>\n",
       "      <td>17035977916</td>\n",
       "      <td>惠普（HP）ENVY薄锐系列X360 15.6英寸轻薄商务办公游戏娱乐笔记本电脑15-bp ...</td>\n",
       "      <td>50.0</td>\n",
       "      <td>电脑/办公</td>\n",
       "      <td>6889.0</td>\n",
       "      <td>344450.0</td>\n",
       "    </tr>\n",
       "    <tr>\n",
       "      <th>13424</th>\n",
       "      <td>笔记本</td>\n",
       "      <td>12571339863</td>\n",
       "      <td>联想（Lenovo） YOGA720 13.3英寸8G内存360度触控翻转超极笔记本电脑 i...</td>\n",
       "      <td>34.0</td>\n",
       "      <td>电脑/办公</td>\n",
       "      <td>7299.0</td>\n",
       "      <td>248166.0</td>\n",
       "    </tr>\n",
       "    <tr>\n",
       "      <th>16922</th>\n",
       "      <td>笔记本</td>\n",
       "      <td>4733965</td>\n",
       "      <td>三星（SAMSUNG）星曜900X5N 15.0英寸超轻薄笔记本电脑（i5-7200U 8G...</td>\n",
       "      <td>194.0</td>\n",
       "      <td>电脑/办公</td>\n",
       "      <td>9399.0</td>\n",
       "      <td>1823406.0</td>\n",
       "    </tr>\n",
       "    <tr>\n",
       "      <th>...</th>\n",
       "      <td>...</td>\n",
       "      <td>...</td>\n",
       "      <td>...</td>\n",
       "      <td>...</td>\n",
       "      <td>...</td>\n",
       "      <td>...</td>\n",
       "      <td>...</td>\n",
       "    </tr>\n",
       "    <tr>\n",
       "      <th>421464</th>\n",
       "      <td>笔记本</td>\n",
       "      <td>13510781307</td>\n",
       "      <td>惠普（HP）光影精灵3pro 电竞版 15-cb系列 15.6英寸笔记本电脑 7代处理器 1...</td>\n",
       "      <td>50.0</td>\n",
       "      <td>电脑/办公</td>\n",
       "      <td>5699.0</td>\n",
       "      <td>284950.0</td>\n",
       "    </tr>\n",
       "    <tr>\n",
       "      <th>421467</th>\n",
       "      <td>笔记本</td>\n",
       "      <td>11868981163</td>\n",
       "      <td>联想（Lenovo） Miix510Plus 12.2英寸PC平板二合一笔记本电脑 银色I5...</td>\n",
       "      <td>0.0</td>\n",
       "      <td>电脑/办公</td>\n",
       "      <td>5799.0</td>\n",
       "      <td>0.0</td>\n",
       "    </tr>\n",
       "    <tr>\n",
       "      <th>421468</th>\n",
       "      <td>笔记本</td>\n",
       "      <td>13562249457</td>\n",
       "      <td>戴尔（DELL)XPS13-9360 13.3英寸轻薄微边框办公笔记本电脑 i5-7200U...</td>\n",
       "      <td>77.0</td>\n",
       "      <td>电脑/办公</td>\n",
       "      <td>8699.0</td>\n",
       "      <td>669823.0</td>\n",
       "    </tr>\n",
       "    <tr>\n",
       "      <th>421470</th>\n",
       "      <td>笔记本</td>\n",
       "      <td>13562100098</td>\n",
       "      <td>戴尔（DELL)笔记本灵越燃7000-1625 i5四核轻薄微边框手提笔记本电脑 i5-82...</td>\n",
       "      <td>53.0</td>\n",
       "      <td>电脑/办公</td>\n",
       "      <td>5999.0</td>\n",
       "      <td>317947.0</td>\n",
       "    </tr>\n",
       "    <tr>\n",
       "      <th>421471</th>\n",
       "      <td>笔记本</td>\n",
       "      <td>11816092686</td>\n",
       "      <td>宏碁(acer) 蜂鸟SF514-51-558U窄边框笔记本电脑IPS屏1080P14英寸 ...</td>\n",
       "      <td>43.0</td>\n",
       "      <td>电脑/办公</td>\n",
       "      <td>5699.0</td>\n",
       "      <td>245057.0</td>\n",
       "    </tr>\n",
       "  </tbody>\n",
       "</table>\n",
       "<p>783 rows × 7 columns</p>\n",
       "</div>"
      ],
      "text/plain": [
       "       class_small     pro_code  \\\n",
       "13345          笔记本  14445807638   \n",
       "13353          笔记本  11493884089   \n",
       "13423          笔记本  17035977916   \n",
       "13424          笔记本  12571339863   \n",
       "16922          笔记本      4733965   \n",
       "...            ...          ...   \n",
       "421464         笔记本  13510781307   \n",
       "421467         笔记本  11868981163   \n",
       "421468         笔记本  13562249457   \n",
       "421470         笔记本  13562100098   \n",
       "421471         笔记本  11816092686   \n",
       "\n",
       "                                                 pro_name  pro_sales_num  \\\n",
       "13345   （华为)HUAWEI MateBook D 15.6英寸轻薄窄边框笔记本电脑超薄本 金 官配...           13.0   \n",
       "13353   宏碁(acer)蜂鸟Swift3 14英寸全金属轻薄笔记本电脑SF314 IPS 指纹识别 ...            6.0   \n",
       "13423   惠普（HP）ENVY薄锐系列X360 15.6英寸轻薄商务办公游戏娱乐笔记本电脑15-bp ...           50.0   \n",
       "13424   联想（Lenovo） YOGA720 13.3英寸8G内存360度触控翻转超极笔记本电脑 i...           34.0   \n",
       "16922   三星（SAMSUNG）星曜900X5N 15.0英寸超轻薄笔记本电脑（i5-7200U 8G...          194.0   \n",
       "...                                                   ...            ...   \n",
       "421464  惠普（HP）光影精灵3pro 电竞版 15-cb系列 15.6英寸笔记本电脑 7代处理器 1...           50.0   \n",
       "421467  联想（Lenovo） Miix510Plus 12.2英寸PC平板二合一笔记本电脑 银色I5...            0.0   \n",
       "421468  戴尔（DELL)XPS13-9360 13.3英寸轻薄微边框办公笔记本电脑 i5-7200U...           77.0   \n",
       "421470  戴尔（DELL)笔记本灵越燃7000-1625 i5四核轻薄微边框手提笔记本电脑 i5-82...           53.0   \n",
       "421471  宏碁(acer) 蜂鸟SF514-51-558U窄边框笔记本电脑IPS屏1080P14英寸 ...           43.0   \n",
       "\n",
       "       pro_type  sale_price      sales  \n",
       "13345     电脑/办公      6988.0    90844.0  \n",
       "13353     电脑/办公      4399.0    26394.0  \n",
       "13423     电脑/办公      6889.0   344450.0  \n",
       "13424     电脑/办公      7299.0   248166.0  \n",
       "16922     电脑/办公      9399.0  1823406.0  \n",
       "...         ...         ...        ...  \n",
       "421464    电脑/办公      5699.0   284950.0  \n",
       "421467    电脑/办公      5799.0        0.0  \n",
       "421468    电脑/办公      8699.0   669823.0  \n",
       "421470    电脑/办公      5999.0   317947.0  \n",
       "421471    电脑/办公      5699.0   245057.0  \n",
       "\n",
       "[783 rows x 7 columns]"
      ]
     },
     "execution_count": 26,
     "metadata": {},
     "output_type": "execute_result"
    }
   ],
   "source": [
    "df.query('class_small==\"笔记本\" and sale_price>3000')"
   ]
  },
  {
   "cell_type": "code",
   "execution_count": 27,
   "metadata": {},
   "outputs": [
    {
     "data": {
      "text/plain": [
       "(422700, 7)"
      ]
     },
     "execution_count": 27,
     "metadata": {},
     "output_type": "execute_result"
    }
   ],
   "source": [
    "df.shape"
   ]
  },
  {
   "cell_type": "code",
   "execution_count": 28,
   "metadata": {},
   "outputs": [
    {
     "data": {
      "text/plain": [
       "count      839.000000\n",
       "mean      7352.958284\n",
       "std       4137.789535\n",
       "min        799.000000\n",
       "25%       4599.000000\n",
       "50%       6299.000000\n",
       "75%       8899.000000\n",
       "max      29999.000000\n",
       "Name: sale_price, dtype: float64"
      ]
     },
     "execution_count": 28,
     "metadata": {},
     "output_type": "execute_result"
    }
   ],
   "source": [
    "#f方法2：describe\n",
    "df_laptop['sale_price'].describe()"
   ]
  },
  {
   "cell_type": "code",
   "execution_count": 29,
   "metadata": {
    "scrolled": false
   },
   "outputs": [
    {
     "data": {
      "image/png": "[encoded data removed]",
      "text/plain": [
       "<Figure size 432x288 with 1 Axes>"
      ]
     },
     "metadata": {
      "needs_background": "light"
     },
     "output_type": "display_data"
    }
   ],
   "source": [
    "#3.价格分布情况\n",
    "import matplotlib.pyplot as plt\n",
    "df_laptop['sale_price'].hist()\n",
    "plt.show()"
   ]
  },
  {
   "cell_type": "code",
   "execution_count": 30,
   "metadata": {
    "scrolled": false
   },
   "outputs": [
    {
     "data": {
      "image/png": "[encoded data removed]",
      "text/plain": [
       "<Figure size 432x288 with 1 Axes>"
      ]
     },
     "metadata": {
      "needs_background": "light"
     },
     "output_type": "display_data"
    }
   ],
   "source": [
    "df_laptop['sale_price'].plot(kind='hist')\n",
    "plt.show()"
   ]
  },
  {
   "cell_type": "code",
   "execution_count": 31,
   "metadata": {},
   "outputs": [
    {
     "data": {
      "image/png": "[encoded data removed]",
      "text/plain": [
       "<Figure size 432x288 with 1 Axes>"
      ]
     },
     "metadata": {
      "needs_background": "light"
     },
     "output_type": "display_data"
    }
   ],
   "source": [
    "import matplotlib.pyplot as plt\n",
    "from pylab import mpl#解决中文字体显示不正常的问题\n",
    "mpl.rcParams['font.sans-serif']=['SimHei']#解决中文字体显示不正常的问题\n",
    "df_laptop['sale_price'].plot(kind='hist',title='笔记本价格分布情况',color='red',alpha=0.5)\n",
    "plt.xlabel('价格')\n",
    "plt.ylabel('数量')\n",
    "plt.show()"
   ]
  },
  {
   "cell_type": "code",
   "execution_count": 32,
   "metadata": {},
   "outputs": [],
   "source": [
    "#问题三:笔记本中的爆品是那个？销量是多少？价格是多少？\n",
    "#1.找到销量列最大值的位置idxmax\n",
    "index=df_laptop['pro_sales_num'].idxmax()"
   ]
  },
  {
   "cell_type": "code",
   "execution_count": 33,
   "metadata": {},
   "outputs": [
    {
     "data": {
      "text/plain": [
       "'戴睿（dere） 戴睿 D17 14英寸 四核轻薄笔记本电脑 新升级款学习办公手提电脑 黑色 时尚版 4G内存320G硬盘+64G固态'"
      ]
     },
     "execution_count": 33,
     "metadata": {},
     "output_type": "execute_result"
    }
   ],
   "source": [
    "#2.爆品名称\n",
    "df_laptop['pro_name'][index]"
   ]
  },
  {
   "cell_type": "code",
   "execution_count": 34,
   "metadata": {},
   "outputs": [
    {
     "data": {
      "text/plain": [
       "4941.0"
      ]
     },
     "execution_count": 34,
     "metadata": {},
     "output_type": "execute_result"
    }
   ],
   "source": [
    "#3.爆品销量\n",
    "df_laptop['pro_sales_num'][index]"
   ]
  },
  {
   "cell_type": "code",
   "execution_count": 35,
   "metadata": {
    "scrolled": true
   },
   "outputs": [
    {
     "data": {
      "text/plain": [
       "1699.0"
      ]
     },
     "execution_count": 35,
     "metadata": {},
     "output_type": "execute_result"
    }
   ],
   "source": [
    "#4.爆品价格\n",
    "df_laptop['sale_price'][index]"
   ]
  },
  {
   "cell_type": "code",
   "execution_count": 36,
   "metadata": {},
   "outputs": [
    {
     "data": {
      "image/png": "[encoded data removed]",
      "text/plain": [
       "<Figure size 432x288 with 1 Axes>"
      ]
     },
     "metadata": {
      "needs_background": "light"
     },
     "output_type": "display_data"
    }
   ],
   "source": [
    "#问题四：在“笔记本”小分类下，销量与价格是否具有相关性？\n",
    "df_laptop.plot(x='sale_price',y='pro_sales_num',kind='scatter')\n",
    "plt.show()"
   ]
  },
  {
   "cell_type": "code",
   "execution_count": 37,
   "metadata": {
    "scrolled": true
   },
   "outputs": [
    {
     "data": {
      "image/png": "[encoded data removed]",
      "text/plain": [
       "<Figure size 432x288 with 1 Axes>"
      ]
     },
     "metadata": {
      "needs_background": "light"
     },
     "output_type": "display_data"
    }
   ],
   "source": [
    "#问题四：在“笔记本”小分类下，销量与价格是否具有相关性？\n",
    "df_laptop.plot(x='sale_price',y='pro_sales_num',kind='scatter',title='销量与价格的相关性',color='red',alpha=0.5)\n",
    "plt.xlabel('价格')\n",
    "plt.ylabel('数量')\n",
    "plt.show()"
   ]
  },
  {
   "cell_type": "code",
   "execution_count": null,
   "metadata": {},
   "outputs": [],
   "source": []
  }
 ],
 "metadata": {
  "kernelspec": {
   "display_name": "Python 3",
   "language": "python",
   "name": "python3"
  },
  "language_info": {
   "codemirror_mode": {
    "name": "ipython",
    "version": 3
   },
   "file_extension": ".py",
   "mimetype": "text/x-python",
   "name": "python",
   "nbconvert_exporter": "python",
   "pygments_lexer": "ipython3",
   "version": "3.8.3"
  }
 },
 "nbformat": 4,
 "nbformat_minor": 4
}
